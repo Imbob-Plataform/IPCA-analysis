{
 "cells": [
  {
   "cell_type": "markdown",
   "id": "cbda2ed2",
   "metadata": {},
   "source": [
    "#### Iniciando processo de tratamento de dados. É preciso tratar os dados para posteriormente fazer uma análise exploratória."
   ]
  },
  {
   "cell_type": "code",
   "execution_count": 2,
   "id": "560a7619",
   "metadata": {},
   "outputs": [
    {
     "name": "stdout",
     "output_type": "stream",
     "text": [
      "<class 'pandas.core.frame.DataFrame'>\n",
      "Index: 466 entries, 1 to 466\n",
      "Data columns (total 2 columns):\n",
      " #   Column      Non-Null Count  Dtype  \n",
      "---  ------      --------------  -----  \n",
      " 0   01/08/1986  466 non-null    object \n",
      " 1   2.57        466 non-null    float64\n",
      "dtypes: float64(1), object(1)\n",
      "memory usage: 10.9+ KB\n"
     ]
    }
   ],
   "source": [
    "import pandas as pd\n",
    "import matplotlib.pyplot as plt\n",
    "import seaborn as sns\n",
    "\n",
    "dataframe = pd.read_csv(r'../data/raw/ipca.csv', header=1, index_col='0')\n",
    "pd.options.display.max_columns = 14\n",
    "pd.options.display.max_rows = 20\n",
    "pd.options.display.max_colwidth = 80\n",
    "dataframe.info()\n",
    "df = dataframe.copy()"
   ]
  },
  {
   "cell_type": "code",
   "execution_count": 3,
   "id": "228bad16",
   "metadata": {},
   "outputs": [
    {
     "data": {
      "text/plain": [
       "(466, 2)"
      ]
     },
     "execution_count": 3,
     "metadata": {},
     "output_type": "execute_result"
    }
   ],
   "source": [
    "df.shape"
   ]
  },
  {
   "cell_type": "markdown",
   "id": "104670b9",
   "metadata": {},
   "source": [
    "Existem 2 colunas e 466 registros"
   ]
  }
 ],
 "metadata": {
  "kernelspec": {
   "display_name": ".venv (3.12.3)",
   "language": "python",
   "name": "python3"
  },
  "language_info": {
   "codemirror_mode": {
    "name": "ipython",
    "version": 3
   },
   "file_extension": ".py",
   "mimetype": "text/x-python",
   "name": "python",
   "nbconvert_exporter": "python",
   "pygments_lexer": "ipython3",
   "version": "3.12.3"
  }
 },
 "nbformat": 4,
 "nbformat_minor": 5
}
