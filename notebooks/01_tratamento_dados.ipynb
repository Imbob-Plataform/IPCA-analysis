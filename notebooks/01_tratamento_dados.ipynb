{
 "cells": [
  {
   "cell_type": "markdown",
   "id": "cbda2ed2",
   "metadata": {},
   "source": [
    "#### Iniciando processo de tratamento de dados. É preciso tratar os dados para posteriormente fazer uma análise exploratória."
   ]
  },
  {
   "cell_type": "code",
   "execution_count": 1,
   "id": "560a7619",
   "metadata": {},
   "outputs": [
    {
     "name": "stdout",
     "output_type": "stream",
     "text": [
      "<class 'pandas.core.frame.DataFrame'>\n",
      "Index: 467 entries, 0 to 466\n",
      "Data columns (total 2 columns):\n",
      " #   Column  Non-Null Count  Dtype  \n",
      "---  ------  --------------  -----  \n",
      " 0   data    467 non-null    object \n",
      " 1   valor   467 non-null    float64\n",
      "dtypes: float64(1), object(1)\n",
      "memory usage: 10.9+ KB\n"
     ]
    }
   ],
   "source": [
    "import pandas as pd\n",
    "import matplotlib.pyplot as plt\n",
    "import seaborn as sns\n",
    "\n",
    "dataframe = pd.read_csv(r'../data/raw/ipca.csv', index_col='Unnamed: 0')\n",
    "pd.options.display.max_columns = 14\n",
    "pd.options.display.max_rows = 20\n",
    "pd.options.display.max_colwidth = 80\n",
    "dataframe.info()\n",
    "df = dataframe.copy()"
   ]
  },
  {
   "cell_type": "code",
   "execution_count": 2,
   "id": "228bad16",
   "metadata": {},
   "outputs": [
    {
     "data": {
      "text/plain": [
       "(467, 2)"
      ]
     },
     "execution_count": 2,
     "metadata": {},
     "output_type": "execute_result"
    }
   ],
   "source": [
    "df.shape"
   ]
  },
  {
   "cell_type": "markdown",
   "id": "104670b9",
   "metadata": {},
   "source": [
    "Existem 2 colunas e 466 registros"
   ]
  },
  {
   "cell_type": "markdown",
   "id": "7fbef6df",
   "metadata": {},
   "source": [
    "Verificarei coluna por coluna, primeiramente vamos para coluna de data\n"
   ]
  },
  {
   "cell_type": "markdown",
   "id": "43bb1e73",
   "metadata": {},
   "source": [
    "requisitos: transformar em datetime e manter a estrutura padrão dd/mm/yyyy"
   ]
  },
  {
   "cell_type": "code",
   "execution_count": 3,
   "id": "e21e520a",
   "metadata": {},
   "outputs": [],
   "source": [
    "rename_columns = {'data': 'periodo', 'valor': 'valor'}\n",
    "df =  df.rename(columns=rename_columns)"
   ]
  },
  {
   "cell_type": "code",
   "execution_count": 4,
   "id": "49d4fb53",
   "metadata": {},
   "outputs": [
    {
     "data": {
      "application/vnd.microsoft.datawrangler.viewer.v0+json": {
       "columns": [
        {
         "name": "index",
         "rawType": "int64",
         "type": "integer"
        },
        {
         "name": "periodo",
         "rawType": "datetime64[ns]",
         "type": "datetime"
        },
        {
         "name": "valor",
         "rawType": "float64",
         "type": "float"
        }
       ],
       "ref": "fec2491f-580b-4b88-8da7-51461293781f",
       "rows": [
        [
         "0",
         "1986-08-01 00:00:00",
         "2.57"
        ],
        [
         "1",
         "1986-09-01 00:00:00",
         "2.94"
        ],
        [
         "2",
         "1986-10-01 00:00:00",
         "1.96"
        ],
        [
         "3",
         "1986-11-01 00:00:00",
         "2.37"
        ],
        [
         "4",
         "1986-12-01 00:00:00",
         "5.47"
        ],
        [
         "5",
         "1987-01-01 00:00:00",
         "11.0"
        ],
        [
         "6",
         "1987-02-01 00:00:00",
         "19.61"
        ],
        [
         "7",
         "1987-03-01 00:00:00",
         "11.95"
        ],
        [
         "8",
         "1987-04-01 00:00:00",
         "15.3"
        ],
        [
         "9",
         "1987-05-01 00:00:00",
         "24.63"
        ],
        [
         "10",
         "1987-06-01 00:00:00",
         "18.02"
        ],
        [
         "11",
         "1987-07-01 00:00:00",
         "8.91"
        ],
        [
         "12",
         "1987-08-01 00:00:00",
         "8.09"
        ],
        [
         "13",
         "1987-09-01 00:00:00",
         "7.99"
        ],
        [
         "14",
         "1987-10-01 00:00:00",
         "9.45"
        ],
        [
         "15",
         "1987-11-01 00:00:00",
         "12.92"
        ],
        [
         "16",
         "1987-12-01 00:00:00",
         "14.38"
        ],
        [
         "17",
         "1988-01-01 00:00:00",
         "16.78"
        ],
        [
         "18",
         "1988-02-01 00:00:00",
         "18.35"
        ],
        [
         "19",
         "1988-03-01 00:00:00",
         "16.59"
        ],
        [
         "20",
         "1988-04-01 00:00:00",
         "20.25"
        ],
        [
         "21",
         "1988-05-01 00:00:00",
         "18.65"
        ],
        [
         "22",
         "1988-06-01 00:00:00",
         "20.17"
        ],
        [
         "23",
         "1988-07-01 00:00:00",
         "24.69"
        ],
        [
         "24",
         "1988-08-01 00:00:00",
         "22.63"
        ],
        [
         "25",
         "1988-09-01 00:00:00",
         "26.25"
        ],
        [
         "26",
         "1988-10-01 00:00:00",
         "29.79"
        ],
        [
         "27",
         "1988-11-01 00:00:00",
         "28.41"
        ],
        [
         "28",
         "1988-12-01 00:00:00",
         "30.24"
        ],
        [
         "29",
         "1989-01-01 00:00:00",
         "22.97"
        ],
        [
         "30",
         "1989-02-01 00:00:00",
         "18.95"
        ],
        [
         "31",
         "1989-03-01 00:00:00",
         "20.41"
        ],
        [
         "32",
         "1989-04-01 00:00:00",
         "11.52"
        ],
        [
         "33",
         "1989-05-01 00:00:00",
         "11.43"
        ],
        [
         "34",
         "1989-06-01 00:00:00",
         "27.29"
        ],
        [
         "35",
         "1989-07-01 00:00:00",
         "33.15"
        ],
        [
         "36",
         "1989-08-01 00:00:00",
         "35.49"
        ],
        [
         "37",
         "1989-09-01 00:00:00",
         "38.58"
        ],
        [
         "38",
         "1989-10-01 00:00:00",
         "47.7"
        ],
        [
         "39",
         "1989-11-01 00:00:00",
         "48.41"
        ],
        [
         "40",
         "1989-12-01 00:00:00",
         "64.21"
        ],
        [
         "41",
         "1990-01-01 00:00:00",
         "67.6"
        ],
        [
         "42",
         "1990-02-01 00:00:00",
         "82.04"
        ],
        [
         "43",
         "1990-03-01 00:00:00",
         "36.76"
        ],
        [
         "44",
         "1990-04-01 00:00:00",
         "4.23"
        ],
        [
         "45",
         "1990-05-01 00:00:00",
         "5.69"
        ],
        [
         "46",
         "1990-06-01 00:00:00",
         "8.73"
        ],
        [
         "47",
         "1990-07-01 00:00:00",
         "13.79"
        ],
        [
         "48",
         "1990-08-01 00:00:00",
         "11.53"
        ],
        [
         "49",
         "1990-09-01 00:00:00",
         "15.21"
        ]
       ],
       "shape": {
        "columns": 2,
        "rows": 467
       }
      },
      "text/html": [
       "<div>\n",
       "<style scoped>\n",
       "    .dataframe tbody tr th:only-of-type {\n",
       "        vertical-align: middle;\n",
       "    }\n",
       "\n",
       "    .dataframe tbody tr th {\n",
       "        vertical-align: top;\n",
       "    }\n",
       "\n",
       "    .dataframe thead th {\n",
       "        text-align: right;\n",
       "    }\n",
       "</style>\n",
       "<table border=\"1\" class=\"dataframe\">\n",
       "  <thead>\n",
       "    <tr style=\"text-align: right;\">\n",
       "      <th></th>\n",
       "      <th>periodo</th>\n",
       "      <th>valor</th>\n",
       "    </tr>\n",
       "  </thead>\n",
       "  <tbody>\n",
       "    <tr>\n",
       "      <th>0</th>\n",
       "      <td>1986-08-01</td>\n",
       "      <td>2.57</td>\n",
       "    </tr>\n",
       "    <tr>\n",
       "      <th>1</th>\n",
       "      <td>1986-09-01</td>\n",
       "      <td>2.94</td>\n",
       "    </tr>\n",
       "    <tr>\n",
       "      <th>2</th>\n",
       "      <td>1986-10-01</td>\n",
       "      <td>1.96</td>\n",
       "    </tr>\n",
       "    <tr>\n",
       "      <th>3</th>\n",
       "      <td>1986-11-01</td>\n",
       "      <td>2.37</td>\n",
       "    </tr>\n",
       "    <tr>\n",
       "      <th>4</th>\n",
       "      <td>1986-12-01</td>\n",
       "      <td>5.47</td>\n",
       "    </tr>\n",
       "    <tr>\n",
       "      <th>...</th>\n",
       "      <td>...</td>\n",
       "      <td>...</td>\n",
       "    </tr>\n",
       "    <tr>\n",
       "      <th>462</th>\n",
       "      <td>2025-02-01</td>\n",
       "      <td>0.99</td>\n",
       "    </tr>\n",
       "    <tr>\n",
       "      <th>463</th>\n",
       "      <td>2025-03-01</td>\n",
       "      <td>0.96</td>\n",
       "    </tr>\n",
       "    <tr>\n",
       "      <th>464</th>\n",
       "      <td>2025-04-01</td>\n",
       "      <td>1.06</td>\n",
       "    </tr>\n",
       "    <tr>\n",
       "      <th>465</th>\n",
       "      <td>2025-05-01</td>\n",
       "      <td>1.14</td>\n",
       "    </tr>\n",
       "    <tr>\n",
       "      <th>466</th>\n",
       "      <td>2025-06-01</td>\n",
       "      <td>0.54</td>\n",
       "    </tr>\n",
       "  </tbody>\n",
       "</table>\n",
       "<p>467 rows × 2 columns</p>\n",
       "</div>"
      ],
      "text/plain": [
       "       periodo  valor\n",
       "0   1986-08-01   2.57\n",
       "1   1986-09-01   2.94\n",
       "2   1986-10-01   1.96\n",
       "3   1986-11-01   2.37\n",
       "4   1986-12-01   5.47\n",
       "..         ...    ...\n",
       "462 2025-02-01   0.99\n",
       "463 2025-03-01   0.96\n",
       "464 2025-04-01   1.06\n",
       "465 2025-05-01   1.14\n",
       "466 2025-06-01   0.54\n",
       "\n",
       "[467 rows x 2 columns]"
      ]
     },
     "execution_count": 4,
     "metadata": {},
     "output_type": "execute_result"
    }
   ],
   "source": [
    "df['periodo'] = df['periodo'].astype(str)\n",
    "df['periodo'] = pd.to_datetime(df['periodo'], dayfirst=True)\n",
    "#transformando df['periodo'] em datetime\n",
    "df"
   ]
  },
  {
   "cell_type": "markdown",
   "id": "8bcff031",
   "metadata": {},
   "source": [
    "Verificar valores nulos"
   ]
  },
  {
   "cell_type": "code",
   "execution_count": 5,
   "id": "b03f9420",
   "metadata": {},
   "outputs": [
    {
     "data": {
      "application/vnd.microsoft.datawrangler.viewer.v0+json": {
       "columns": [
        {
         "name": "periodo",
         "rawType": "bool",
         "type": "boolean"
        },
        {
         "name": "count",
         "rawType": "int64",
         "type": "integer"
        }
       ],
       "ref": "a51033c4-a203-49d7-ba06-6949e8b24b1f",
       "rows": [
        [
         "False",
         "467"
        ]
       ],
       "shape": {
        "columns": 1,
        "rows": 1
       }
      },
      "text/plain": [
       "periodo\n",
       "False    467\n",
       "Name: count, dtype: int64"
      ]
     },
     "execution_count": 5,
     "metadata": {},
     "output_type": "execute_result"
    }
   ],
   "source": [
    "df['periodo'].isnull().value_counts()\n",
    "# há 467 registros não nulos"
   ]
  },
  {
   "cell_type": "code",
   "execution_count": 6,
   "id": "c7cce619",
   "metadata": {},
   "outputs": [
    {
     "data": {
      "text/plain": [
       "<DatetimeArray>\n",
       "['1986-08-01 00:00:00', '1986-09-01 00:00:00', '1986-10-01 00:00:00',\n",
       " '1986-11-01 00:00:00', '1986-12-01 00:00:00', '1987-01-01 00:00:00',\n",
       " '1987-02-01 00:00:00', '1987-03-01 00:00:00', '1987-04-01 00:00:00',\n",
       " '1987-05-01 00:00:00',\n",
       " ...\n",
       " '2024-09-01 00:00:00', '2024-10-01 00:00:00', '2024-11-01 00:00:00',\n",
       " '2024-12-01 00:00:00', '2025-01-01 00:00:00', '2025-02-01 00:00:00',\n",
       " '2025-03-01 00:00:00', '2025-04-01 00:00:00', '2025-05-01 00:00:00',\n",
       " '2025-06-01 00:00:00']\n",
       "Length: 467, dtype: datetime64[ns]"
      ]
     },
     "execution_count": 6,
     "metadata": {},
     "output_type": "execute_result"
    }
   ],
   "source": [
    "df['periodo'].unique()"
   ]
  },
  {
   "cell_type": "markdown",
   "id": "432c4f87",
   "metadata": {},
   "source": [
    "Verificando duplicados"
   ]
  },
  {
   "cell_type": "code",
   "execution_count": 7,
   "id": "c5dfe9ec",
   "metadata": {},
   "outputs": [
    {
     "data": {
      "application/vnd.microsoft.datawrangler.viewer.v0+json": {
       "columns": [
        {
         "name": "periodo",
         "rawType": "bool",
         "type": "boolean"
        },
        {
         "name": "count",
         "rawType": "int64",
         "type": "integer"
        }
       ],
       "ref": "adac6287-bfb4-4d24-97f0-e90e834bf2fe",
       "rows": [
        [
         "False",
         "467"
        ]
       ],
       "shape": {
        "columns": 1,
        "rows": 1
       }
      },
      "text/plain": [
       "periodo\n",
       "False    467\n",
       "Name: count, dtype: int64"
      ]
     },
     "execution_count": 7,
     "metadata": {},
     "output_type": "execute_result"
    }
   ],
   "source": [
    "df['periodo'].duplicated().value_counts()\n",
    "# há 467 registros não duplicados"
   ]
  },
  {
   "cell_type": "markdown",
   "id": "6426450b",
   "metadata": {},
   "source": [
    "Transformar a coluna de valor em float, verificar valores nulos"
   ]
  },
  {
   "cell_type": "code",
   "execution_count": 8,
   "id": "5f580765",
   "metadata": {},
   "outputs": [
    {
     "data": {
      "application/vnd.microsoft.datawrangler.viewer.v0+json": {
       "columns": [
        {
         "name": "index",
         "rawType": "int64",
         "type": "integer"
        },
        {
         "name": "valor",
         "rawType": "float64",
         "type": "float"
        }
       ],
       "ref": "8ac2d67e-0410-4b12-9b25-1743c856bc0f",
       "rows": [
        [
         "0",
         "2.57"
        ],
        [
         "1",
         "2.94"
        ],
        [
         "2",
         "1.96"
        ],
        [
         "3",
         "2.37"
        ],
        [
         "4",
         "5.47"
        ],
        [
         "5",
         "11.0"
        ],
        [
         "6",
         "19.61"
        ],
        [
         "7",
         "11.95"
        ],
        [
         "8",
         "15.3"
        ],
        [
         "9",
         "24.63"
        ],
        [
         "10",
         "18.02"
        ],
        [
         "11",
         "8.91"
        ],
        [
         "12",
         "8.09"
        ],
        [
         "13",
         "7.99"
        ],
        [
         "14",
         "9.45"
        ],
        [
         "15",
         "12.92"
        ],
        [
         "16",
         "14.38"
        ],
        [
         "17",
         "16.78"
        ],
        [
         "18",
         "18.35"
        ],
        [
         "19",
         "16.59"
        ],
        [
         "20",
         "20.25"
        ],
        [
         "21",
         "18.65"
        ],
        [
         "22",
         "20.17"
        ],
        [
         "23",
         "24.69"
        ],
        [
         "24",
         "22.63"
        ],
        [
         "25",
         "26.25"
        ],
        [
         "26",
         "29.79"
        ],
        [
         "27",
         "28.41"
        ],
        [
         "28",
         "30.24"
        ],
        [
         "29",
         "22.97"
        ],
        [
         "30",
         "18.95"
        ],
        [
         "31",
         "20.41"
        ],
        [
         "32",
         "11.52"
        ],
        [
         "33",
         "11.43"
        ],
        [
         "34",
         "27.29"
        ],
        [
         "35",
         "33.15"
        ],
        [
         "36",
         "35.49"
        ],
        [
         "37",
         "38.58"
        ],
        [
         "38",
         "47.7"
        ],
        [
         "39",
         "48.41"
        ],
        [
         "40",
         "64.21"
        ],
        [
         "41",
         "67.6"
        ],
        [
         "42",
         "82.04"
        ],
        [
         "43",
         "36.76"
        ],
        [
         "44",
         "4.23"
        ],
        [
         "45",
         "5.69"
        ],
        [
         "46",
         "8.73"
        ],
        [
         "47",
         "13.79"
        ],
        [
         "48",
         "11.53"
        ],
        [
         "49",
         "15.21"
        ]
       ],
       "shape": {
        "columns": 1,
        "rows": 467
       }
      },
      "text/plain": [
       "0      2.57\n",
       "1      2.94\n",
       "2      1.96\n",
       "3      2.37\n",
       "4      5.47\n",
       "       ... \n",
       "462    0.99\n",
       "463    0.96\n",
       "464    1.06\n",
       "465    1.14\n",
       "466    0.54\n",
       "Name: valor, Length: 467, dtype: float64"
      ]
     },
     "execution_count": 8,
     "metadata": {},
     "output_type": "execute_result"
    }
   ],
   "source": [
    "df['valor'].astype(float)"
   ]
  },
  {
   "cell_type": "code",
   "execution_count": 9,
   "id": "308f6bd9",
   "metadata": {},
   "outputs": [
    {
     "data": {
      "text/plain": [
       "array([ 2.57,  2.94,  1.96,  2.37,  5.47, 11.  , 19.61, 11.95, 15.3 ,\n",
       "       24.63, 18.02,  8.91,  8.09,  7.99,  9.45, 12.92, 14.38, 16.78,\n",
       "       18.35, 16.59, 20.25, 18.65, 20.17, 24.69, 22.63, 26.25, 29.79,\n",
       "       28.41, 30.24, 22.97, 18.95, 20.41, 11.52, 11.43, 27.29, 33.15,\n",
       "       35.49, 38.58, 47.7 , 48.41, 64.21, 67.6 , 82.04, 36.76,  4.23,\n",
       "        5.69,  8.73, 13.79, 11.53, 15.21, 16.49, 19.83, 22.86, 21.02,\n",
       "        6.85,  8.99,  9.67,  9.56, 10.32, 12.39, 15.75, 19.78, 25.95,\n",
       "       32.43, 31.17, 29.06, 28.76, 26.86, 23.92, 23.  , 24.28, 26.21,\n",
       "       25.65, 27.66, 28.18, 26.4 , 25.92, 28.52, 28.9 , 28.36, 30.53,\n",
       "       30.9 , 31.91, 32.73, 34.64, 37.23, 38.4 , 38.38, 40.38, 42.76,\n",
       "       41.99, 46.42, 46.49, 47.95, 50.62,  6.87,  4.17,  3.83,  3.62,\n",
       "        4.07,  3.8 ,  3.37,  3.25,  4.26,  4.25,  4.04,  4.02,  3.84,\n",
       "        3.32,  3.09,  2.88,  2.78,  2.58,  2.35,  2.22,  2.07,  2.01,\n",
       "        1.98,  1.93,  1.97,  1.9 ,  1.86,  1.8 ,  1.73,  1.67,  1.64,\n",
       "        1.66,  1.58,  1.61,  1.6 ,  1.59,  3.04,  2.97,  2.67,  2.13,\n",
       "        2.2 ,  1.71,  1.63,  1.7 ,  1.48,  2.49,  2.63,  2.4 ,  2.18,\n",
       "        2.38,  3.33,  2.02,  1.57,  1.49,  1.38,  1.39,  1.46,  1.45,\n",
       "        1.3 ,  1.31,  1.41,  1.22,  1.29,  1.2 ,  1.27,  1.02,  1.26,\n",
       "        1.19,  1.34,  1.5 ,  1.32,  1.53,  1.25,  1.37,  1.33,  1.54,\n",
       "        1.44,  1.65,  1.74,  1.83,  1.78,  1.87,  2.08,  1.77,  1.68,\n",
       "        1.08,  1.18,  1.23,  1.21,  1.51,  1.47,  1.43,  1.15,  1.42,\n",
       "        1.28,  1.17,  1.06,  1.09,  0.99,  0.87,  1.05,  0.94,  1.03,\n",
       "        0.91,  0.97,  0.8 ,  0.93,  0.84,  0.9 ,  0.88,  0.96,  1.07,\n",
       "        1.1 ,  1.12,  0.86,  0.77,  0.76,  0.79,  0.69,  0.66,  0.73,\n",
       "        0.59,  0.67,  0.75,  0.89,  0.85,  0.81,  0.92,  0.82,  0.71,\n",
       "        0.74,  0.64,  0.68,  0.54,  0.61,  0.55,  0.6 ,  0.49,  0.72,\n",
       "        0.95,  1.04,  1.11,  1.16,  1.  ,  0.57,  0.58,  0.47,  0.53,\n",
       "        0.52,  0.5 ,  0.46,  0.48,  0.38,  0.37,  0.29,  0.34,  0.28,\n",
       "        0.24,  0.21,  0.19,  0.16,  0.15,  0.13,  0.2 ,  0.27,  0.31,\n",
       "        0.36,  0.43,  0.44,  0.83,  1.14,  1.01])"
      ]
     },
     "execution_count": 9,
     "metadata": {},
     "output_type": "execute_result"
    }
   ],
   "source": [
    "df['valor'].unique()"
   ]
  },
  {
   "cell_type": "code",
   "execution_count": 10,
   "id": "4398a4c5",
   "metadata": {},
   "outputs": [
    {
     "data": {
      "application/vnd.microsoft.datawrangler.viewer.v0+json": {
       "columns": [
        {
         "name": "valor",
         "rawType": "bool",
         "type": "boolean"
        },
        {
         "name": "count",
         "rawType": "int64",
         "type": "integer"
        }
       ],
       "ref": "d21d6e88-3893-482c-9254-71b369231b99",
       "rows": [
        [
         "False",
         "467"
        ]
       ],
       "shape": {
        "columns": 1,
        "rows": 1
       }
      },
      "text/plain": [
       "valor\n",
       "False    467\n",
       "Name: count, dtype: int64"
      ]
     },
     "execution_count": 10,
     "metadata": {},
     "output_type": "execute_result"
    }
   ],
   "source": [
    "df['valor'].isnull().value_counts()\n",
    "# há 467 valores não nulos"
   ]
  },
  {
   "cell_type": "code",
   "execution_count": 11,
   "id": "3766a593",
   "metadata": {},
   "outputs": [
    {
     "name": "stdout",
     "output_type": "stream",
     "text": [
      "<class 'pandas.core.frame.DataFrame'>\n",
      "Index: 467 entries, 0 to 466\n",
      "Data columns (total 2 columns):\n",
      " #   Column   Non-Null Count  Dtype         \n",
      "---  ------   --------------  -----         \n",
      " 0   periodo  467 non-null    datetime64[ns]\n",
      " 1   valor    467 non-null    float64       \n",
      "dtypes: datetime64[ns](1), float64(1)\n",
      "memory usage: 10.9 KB\n"
     ]
    }
   ],
   "source": [
    "df.info()"
   ]
  },
  {
   "cell_type": "code",
   "execution_count": 12,
   "id": "137051c3",
   "metadata": {},
   "outputs": [],
   "source": [
    "caminho = 'data/processed'\n",
    "df.to_csv(f'../{caminho}/ipca.csv')"
   ]
  }
 ],
 "metadata": {
  "kernelspec": {
   "display_name": ".venv (3.12.3)",
   "language": "python",
   "name": "python3"
  },
  "language_info": {
   "codemirror_mode": {
    "name": "ipython",
    "version": 3
   },
   "file_extension": ".py",
   "mimetype": "text/x-python",
   "name": "python",
   "nbconvert_exporter": "python",
   "pygments_lexer": "ipython3",
   "version": "3.12.3"
  }
 },
 "nbformat": 4,
 "nbformat_minor": 5
}
