{
 "cells": [
  {
   "cell_type": "markdown",
   "id": "53e12fb3",
   "metadata": {},
   "source": [
    "### Análise exploratória dos dados já processados\n"
   ]
  },
  {
   "cell_type": "code",
   "execution_count": null,
   "id": "71de7d1a",
   "metadata": {},
   "outputs": [
    {
     "name": "stdout",
     "output_type": "stream",
     "text": [
      "<class 'pandas.core.frame.DataFrame'>\n",
      "Index: 16848 entries, 1 to 16848\n",
      "Data columns (total 6 columns):\n",
      " #   Column                       Non-Null Count  Dtype  \n",
      "---  ------                       --------------  -----  \n",
      " 0   valor                        16848 non-null  float64\n",
      " 1   unidade_da_federacao_codigo  16848 non-null  int64  \n",
      " 2   unidade_da_federacao         16848 non-null  object \n",
      " 3   periodo                      16848 non-null  object \n",
      " 4   tipo_de_projeto              16848 non-null  object \n",
      " 5   padrao_de_acabamento         16848 non-null  object \n",
      "dtypes: float64(1), int64(1), object(4)\n",
      "memory usage: 921.4+ KB\n"
     ]
    }
   ],
   "source": [
    "import pandas as pd\n",
    "import matplotlib.pyplot as plt\n",
    "import seaborn as sns\n",
    "\n",
    "dataframe = pd.read_csv(r'../data/processed/ipca.csv', index_col='index')\n",
    "pd.options.display.max_columns = 14\n",
    "pd.options.display.max_rows = 20\n",
    "pd.options.display.max_colwidth = 80\n",
    "dataframe.info()\n",
    "df = dataframe.copy()\n"
   ]
  }
 ],
 "metadata": {
  "kernelspec": {
   "display_name": ".venv (3.12.3)",
   "language": "python",
   "name": "python3"
  },
  "language_info": {
   "codemirror_mode": {
    "name": "ipython",
    "version": 3
   },
   "file_extension": ".py",
   "mimetype": "text/x-python",
   "name": "python",
   "nbconvert_exporter": "python",
   "pygments_lexer": "ipython3",
   "version": "3.12.3"
  }
 },
 "nbformat": 4,
 "nbformat_minor": 5
}
